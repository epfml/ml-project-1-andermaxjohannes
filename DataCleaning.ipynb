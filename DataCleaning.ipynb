{
 "cells": [
  {
   "cell_type": "code",
   "execution_count": 1,
   "metadata": {},
   "outputs": [],
   "source": [
    "# Importing numpy and all functions in implementations.py\n",
    "import numpy as np\n",
    "from implementations import *\n",
    "import helpers as h"
   ]
  },
  {
   "cell_type": "code",
   "execution_count": 9,
   "metadata": {},
   "outputs": [
    {
     "name": "stdout",
     "output_type": "stream",
     "text": [
      "y: (328135,), x: (328135, 321)\n"
     ]
    }
   ],
   "source": [
    "\n",
    "def loadData(dataPath):\n",
    "    ''' Loads data and returns it as masked numpy array. A masked array contains information about which values are invalid, ensuring methods like .mean() ignores the masked values\n",
    "    Args:\n",
    "        dataPath: The file path of the data\n",
    "    Returns:\n",
    "        data: (N,d) masked numpy array, where N is the number of samples, and d is the dimension of the x values, or 1 if the data in question are the labels\n",
    "        header: (d,) array with the column names\n",
    "    '''\n",
    "    data = np.genfromtxt(dataPath, delimiter=',', skip_header=1, dtype=float, usemask=True) # Loading the data as a masked array (with usemask=True), skipping the header, and specifying that the values are floats\n",
    "    header = np.genfromtxt(dataPath, delimiter=',', dtype=str, max_rows=1) # Loading the first row of the csv file, i.e. the header\n",
    "    return data , header\n",
    "\n",
    "# Loading the data and printing the shapes\n",
    "y, yHeader = loadData('./Data/y_train.csv')\n",
    "x, xHeader = loadData('./Data/x_train.csv')\n",
    "print(f'y: {y.shape}, x: {x.shape}')"
   ]
  },
  {
   "cell_type": "code",
   "execution_count": 15,
   "metadata": {},
   "outputs": [
    {
     "name": "stdout",
     "output_type": "stream",
     "text": [
      "For a threeshold of 0.7, there are 144 valid values, and 177 invalid values\n"
     ]
    }
   ],
   "source": [
    "# Counting the number of valid values for each feature, and calculating the percentage of valid entries\n",
    "validFeatureVals = x.count(axis=0)\n",
    "validFeatureValsPercent = validFeatureVals/x.shape[0]\n",
    "\n",
    "# Finding the indices of all the features with number of features above and below a threeshold\n",
    "threeshold = 0.7\n",
    "featureIndicesAboveThreeshold = np.argwhere(validFeatureValsPercent > threeshold).flatten() # Finding the indiced i where there are more than threeshold percent\n",
    "featureIndicesBelowThreeshold = np.argwhere(validFeatureValsPercent < threeshold).flatten() # valid values, and flattening the array from (i,1) to (i,)\n",
    "print(f'For a threeshold of {threeshold}, there are {len(featureIndicesAboveThreeshold)} valid features, and {len(featureIndicesBelowThreeshold)} invalid features')"
   ]
  },
  {
   "cell_type": "code",
   "execution_count": 14,
   "metadata": {},
   "outputs": [
    {
     "name": "stdout",
     "output_type": "stream",
     "text": [
      "(328135, 144)\n"
     ]
    }
   ],
   "source": [
    "# Removing the features that appears less than {threeshold} of the time\n",
    "xFeaturesRemoved = x[:,featureIndicesAboveThreeshold]\n",
    "print(xFeaturesRemoved.shape)"
   ]
  },
  {
   "cell_type": "code",
   "execution_count": 32,
   "metadata": {},
   "outputs": [
    {
     "name": "stdout",
     "output_type": "stream",
     "text": [
      "There are 289870 samples with at most 5 missing values, for a threeshold of 0.7 for considering a feature valid\n"
     ]
    }
   ],
   "source": [
    "# Counting the number of valid values for each remaining sample\n",
    "validSampleVals = xFeaturesRemoved.count(axis=1)\n",
    "validSampleValsPercent = validSampleVals/xFeaturesRemoved.shape[1]\n",
    "\n",
    "acceptableMissingValues = 5\n",
    "sampleIndicesAboveThreeshold = np.argwhere(validSampleVals >= xFeaturesRemoved.shape[1]-acceptableMissingValues).flatten()\n",
    "print(f'There are {len(sampleIndicesAboveThreeshold)} samples with at most {acceptableMissingValues} missing values, for a threeshold of {threeshold} for considering a feature valid')\n"
   ]
  },
  {
   "cell_type": "code",
   "execution_count": 42,
   "metadata": {},
   "outputs": [
    {
     "name": "stdout",
     "output_type": "stream",
     "text": [
      "(289870, 144)\n"
     ]
    }
   ],
   "source": [
    "# Removing samples with more than {acceptableMissingValues} missing values\n",
    "xFeaturesAndSamplesRemoved = xFeaturesRemoved[sampleIndicesAboveThreeshold]\n",
    "print(xFeaturesAndSamplesRemoved.shape)"
   ]
  },
  {
   "cell_type": "code",
   "execution_count": 45,
   "metadata": {},
   "outputs": [
    {
     "name": "stdout",
     "output_type": "stream",
     "text": [
      "The number of invalid entries remaing in the dataset is 272938\n",
      "That is 0.006538802834987332 parts of the whole dataset\n"
     ]
    }
   ],
   "source": [
    "print(f'The number of invalid entries remaing in the dataset is {xFeaturesAndSamplesRemoved.size - xFeaturesAndSamplesRemoved.count()}\\nThat is {(xFeaturesAndSamplesRemoved.size - xFeaturesAndSamplesRemoved.count())/xFeaturesAndSamplesRemoved.size} parts of the whole dataset')"
   ]
  },
  {
   "cell_type": "code",
   "execution_count": 52,
   "metadata": {},
   "outputs": [],
   "source": [
    "xNormalize = (xFeaturesAndSamplesRemoved - np.mean(xFeaturesAndSamplesRemoved,axis=0)) / np.var(xFeaturesAndSamplesRemoved, axis=0)\n",
    "xClean = np.ma.filled(xFeaturesAndSamplesRemoved,fill_value=0)"
   ]
  },
  {
   "cell_type": "code",
   "execution_count": null,
   "metadata": {},
   "outputs": [],
   "source": []
  }
 ],
 "metadata": {
  "kernelspec": {
   "display_name": "StdVenv",
   "language": "python",
   "name": "python3"
  },
  "language_info": {
   "codemirror_mode": {
    "name": "ipython",
    "version": 3
   },
   "file_extension": ".py",
   "mimetype": "text/x-python",
   "name": "python",
   "nbconvert_exporter": "python",
   "pygments_lexer": "ipython3",
   "version": "3.10.13"
  }
 },
 "nbformat": 4,
 "nbformat_minor": 2
}
