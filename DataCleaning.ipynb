{
 "cells": [
  {
   "cell_type": "code",
   "execution_count": 15,
   "metadata": {},
   "outputs": [],
   "source": [
    "# Importing numpy and all functions in implementations.py\n",
    "import numpy as np\n",
    "from implementations import *\n",
    "import helpers as h"
   ]
  },
  {
   "cell_type": "code",
   "execution_count": 16,
   "metadata": {},
   "outputs": [
    {
     "name": "stdout",
     "output_type": "stream",
     "text": [
      "y: (328135,), x: (328135, 321)\n"
     ]
    }
   ],
   "source": [
    "\n",
    "def loadData(dataPath):\n",
    "    ''' Loads data and returns it as masked numpy array. A masked array contains information about which values are invalid, ensuring methods like .mean() ignores the masked values\n",
    "    Args:\n",
    "        dataPath: The file path of the data\n",
    "    Returns:\n",
    "        data: (N,d) masked numpy array, where N is the number of samples, and d is the dimension of the x values, or 1 if the data in question are the labels\n",
    "        header: (d,) array with the column names\n",
    "    '''\n",
    "    data = np.genfromtxt(dataPath, delimiter=',', skip_header=1, dtype=float, usemask=True) # Loading the data as a masked array (with usemask=True), skipping the header, and specifying that the values are floats\n",
    "    header = np.genfromtxt(dataPath, delimiter=',', dtype=str, max_rows=1) # Loading the first row of the csv file, i.e. the header\n",
    "    return data , header\n",
    "\n",
    "# Loading the data and printing the shapes\n",
    "y, yHeader = loadData('./Data/y_train.csv')\n",
    "x, xHeader = loadData('./Data/x_train.csv')\n",
    "print(f'y: {y.shape}, x: {x.shape}')"
   ]
  },
  {
   "cell_type": "code",
   "execution_count": 17,
   "metadata": {},
   "outputs": [
    {
     "name": "stdout",
     "output_type": "stream",
     "text": [
      "0.08830207079403295\n"
     ]
    }
   ],
   "source": [
    "print(np.sum(y)/len(y))"
   ]
  },
  {
   "cell_type": "code",
   "execution_count": 18,
   "metadata": {},
   "outputs": [
    {
     "name": "stdout",
     "output_type": "stream",
     "text": [
      "For a threeshold of 0.7, there are 144 valid features, and 177 invalid features\n"
     ]
    }
   ],
   "source": [
    "# Counting the number of valid values for each feature, and calculating the percentage of valid entries\n",
    "validFeatureVals = x.count(axis=0)\n",
    "validFeatureValsPercent = validFeatureVals/x.shape[0]\n",
    "\n",
    "# Finding the indices of all the features with number of features above and below a threeshold\n",
    "threeshold = 0.7\n",
    "featureIndicesAboveThreeshold = np.argwhere(validFeatureValsPercent > threeshold).flatten() # Finding the indiced i where there are more than threeshold percent\n",
    "featureIndicesBelowThreeshold = np.argwhere(validFeatureValsPercent < threeshold).flatten() # valid values, and flattening the array from (i,1) to (i,)\n",
    "print(f'For a threeshold of {threeshold}, there are {len(featureIndicesAboveThreeshold)} valid features, and {len(featureIndicesBelowThreeshold)} invalid features')"
   ]
  },
  {
   "cell_type": "code",
   "execution_count": 19,
   "metadata": {},
   "outputs": [
    {
     "name": "stdout",
     "output_type": "stream",
     "text": [
      "(328135, 144)\n"
     ]
    }
   ],
   "source": [
    "# Removing the features that appears less than {threeshold} of the time\n",
    "xFeaturesRemoved = x[:,featureIndicesAboveThreeshold]\n",
    "print(xFeaturesRemoved.shape)"
   ]
  },
  {
   "cell_type": "code",
   "execution_count": 20,
   "metadata": {},
   "outputs": [
    {
     "name": "stdout",
     "output_type": "stream",
     "text": [
      "There are 289870 samples with at most 5 missing values, for a threeshold of 0.7 for considering a feature valid\n"
     ]
    }
   ],
   "source": [
    "# Counting the number of valid values for each remaining sample\n",
    "validSampleVals = xFeaturesRemoved.count(axis=1)\n",
    "validSampleValsPercent = validSampleVals/xFeaturesRemoved.shape[1]\n",
    "\n",
    "acceptableMissingValues = 5\n",
    "sampleIndicesAboveThreeshold = np.argwhere(validSampleVals >= xFeaturesRemoved.shape[1]-acceptableMissingValues).flatten()\n",
    "print(f'There are {len(sampleIndicesAboveThreeshold)} samples with at most {acceptableMissingValues} missing values, for a threeshold of {threeshold} for considering a feature valid')\n"
   ]
  },
  {
   "cell_type": "code",
   "execution_count": 21,
   "metadata": {},
   "outputs": [
    {
     "name": "stdout",
     "output_type": "stream",
     "text": [
      "(289870, 144)\n"
     ]
    }
   ],
   "source": [
    "# Removing samples with more than {acceptableMissingValues} missing values\n",
    "xFeaturesAndSamplesRemoved = xFeaturesRemoved[sampleIndicesAboveThreeshold]\n",
    "ySamplesRemoved = y[sampleIndicesAboveThreeshold]\n",
    "print(xFeaturesAndSamplesRemoved.shape)"
   ]
  },
  {
   "cell_type": "code",
   "execution_count": 22,
   "metadata": {},
   "outputs": [
    {
     "name": "stdout",
     "output_type": "stream",
     "text": [
      "The number of invalid entries remaing in the dataset is 272938\n",
      "That is 0.006538802834987332 parts of the whole dataset\n"
     ]
    }
   ],
   "source": [
    "print(f'The number of invalid entries remaing in the dataset is {xFeaturesAndSamplesRemoved.size - xFeaturesAndSamplesRemoved.count()}\\nThat is {(xFeaturesAndSamplesRemoved.size - xFeaturesAndSamplesRemoved.count())/xFeaturesAndSamplesRemoved.size} parts of the whole dataset')"
   ]
  },
  {
   "cell_type": "code",
   "execution_count": 28,
   "metadata": {},
   "outputs": [],
   "source": [
    "xNormalize = (xFeaturesAndSamplesRemoved - np.mean(xFeaturesAndSamplesRemoved,axis=0)) / np.var(xFeaturesAndSamplesRemoved, axis=0)\n",
    "xClean = np.ma.filled(xFeaturesAndSamplesRemoved,fill_value=0)\n",
    "tx = np.c_[np.ones(xClean.shape[0]),xClean]"
   ]
  },
  {
   "cell_type": "code",
   "execution_count": 38,
   "metadata": {},
   "outputs": [
    {
     "name": "stdout",
     "output_type": "stream",
     "text": [
      "[  2.38731383   1.88838135   1.87784864   1.87144709   2.17877719\n",
      "   1.00048482   1.08483842   1.00000898   1.00000898   3.51443721\n",
      "   1.63946764   1.53811319   8.27270306   6.54314392   4.69803818\n",
      "   5.8018997    4.09194858   7.45213924   7.08355281   6.29817488\n",
      "   4.56758328   4.78944528   4.7012299    4.7154376    4.63624683\n",
      "   5.36457423   4.92568509   4.54867698   3.26785506   1.26812815\n",
      "   4.05365972   1.81827749   6.69447445   4.80682101   2.2954606\n",
      "   1.49813518   5.35651849   7.43837069  17.92386086  16.04860394\n",
      "   5.06783454   4.7657523    4.58357711   4.66788575   4.8770288\n",
      "   4.58620393   4.6482246    5.64431367   3.03797778   1.88543432\n",
      "   2.76129914   4.85985628   3.24916582   3.95410539   3.3863199\n",
      "   4.54609282   7.03583141   1.66873752   7.22815757   5.86264472\n",
      "   4.43792539   4.82982505   1.55443233   2.89891259   2.38236924\n",
      "  15.63393272   3.45493538  26.57384611   1.65369843   2.22315866\n",
      "  55.13363103   7.49668102   2.28518397   6.31486838   6.13247863\n",
      "   6.85408697   7.77240186   7.85463315   3.19193607   1.21137785\n",
      "  36.7998733   35.67754961   4.5596401    4.62712748   6.85253868\n",
      "   5.55071394   3.53750214   1.7876933    2.19710004   1.43685538\n",
      "   1.34121561   1.44124278   1.43411376   3.72187083   3.65037573\n",
      "   1.42668708   4.4834502    5.92965772   3.0214935    1.97044666\n",
      "   2.68476039   7.57907122   5.82276136  37.07544499   7.26772546\n",
      "  54.08628084   7.62771183 282.94223093  99.08039365 357.72309787\n",
      " 174.97367663 335.46215293 124.18284815  95.91992058 119.30033954\n",
      "   1.02041391   1.02821408 112.41017017 105.01551831   5.89019013\n",
      "   6.34381383   1.00022084   1.00012076  97.81339632  72.25074776\n",
      "   7.02195007  27.57072747  76.39726641  82.61757359 138.57590566\n",
      "   3.37633512   5.25123641   4.52730879   4.06696827   4.641815\n",
      "   5.06689947   3.10307175   4.33239561   3.58925712   3.44697145\n",
      "   2.60293695   8.2753272    7.78562326   4.68905361]\n",
      "[   104      5   5978      5      7    161      8 136508 136508    233\n",
      "    217    275    414      3   1269    499   2231   6660   1107   1578\n",
      "  25646  23809   3971   1402  14392   4591    522   5458   4078      0\n",
      "      3      3    123    414      3    123      1   1374      1    161\n",
      "   3135   2434     67    620    962   8080   1296   2679      3      3\n",
      "     11    350    884   1044   1186    553   2710    474   2108    428\n",
      "   2108    255    126  13799    104    511     26 120631      1      2\n",
      "  10721    233      1    140     86     68   1014     83     83      0\n",
      "    176    176    176    176    176    176     21      3      3      5\n",
      "      1  24743  24743 174954   2311      4      1    123      3      1\n",
      "      3      3      3      3      3      3      3 124409  19050  57839\n",
      " 193584  19532  82465    140   2495      0      0 171281 124409      6\n",
      "      6      0      0   9095  16118     59      3      3  15285     59\n",
      "      3      3      3      3      3     59      3      3     86    112\n",
      "    112    112    112     19]\n"
     ]
    }
   ],
   "source": [
    "print(np.max(xClean,axis=0)/np.mean(np.abs(xClean),axis=0))\n",
    "print(np.argmax(xClean,axis=0))"
   ]
  },
  {
   "cell_type": "code",
   "execution_count": 66,
   "metadata": {},
   "outputs": [
    {
     "name": "stdout",
     "output_type": "stream",
     "text": [
      "0.08970228033256288 0.1676492133259451\n"
     ]
    }
   ],
   "source": [
    "initial_w = np.zeros(tx.shape[1],dtype=np.double)\n",
    "w_sgd_m, loss_sgd_m, = mean_squared_error_sgd(ySamplesRemoved,tx,initial_w,10**4,2e-19,batch_size=16)\n",
    "print(compute_loss(ySamplesRemoved,tx,initial_w),loss_sgd_m)"
   ]
  },
  {
   "cell_type": "code",
   "execution_count": 41,
   "metadata": {},
   "outputs": [],
   "source": [
    "w_logistic = logistic_regression(ySamplesRemoved,tx,initial_w,10**3,1e-19)"
   ]
  },
  {
   "cell_type": "code",
   "execution_count": 51,
   "metadata": {},
   "outputs": [
    {
     "name": "stdout",
     "output_type": "stream",
     "text": [
      "Number of Errors: 263868.0\n",
      "Predicted positive cases: 289870.0\n",
      "Number of samples: 289870\n",
      "Number of actually positive cases: 26002.0\n",
      "237866.0\n"
     ]
    }
   ],
   "source": [
    "errors = np.sum(np.abs((np.sign(tx @ w_logistic - 0.5)+1)/2 - ySamplesRemoved))\n",
    "predPos = np.sum(np.sign(tx @ w_logistic - 0.5)/2 + 0.5)\n",
    "print(f'''Number of Errors: {errors}\n",
    "Predicted positive cases: {predPos}\n",
    "Number of samples: {len(ySamplesRemoved)}\n",
    "Number of actually positive cases: {np.sum(ySamplesRemoved)}''')\n",
    "print(errors - np.sum(ySamplesRemoved))"
   ]
  },
  {
   "cell_type": "code",
   "execution_count": 67,
   "metadata": {},
   "outputs": [
    {
     "name": "stdout",
     "output_type": "stream",
     "text": [
      "[ 4.72123129e-20  3.06953407e-17  1.43846642e-17  5.79569344e-12\n",
      "  7.17172887e-18 -1.37612979e-16  9.43670478e-17 -2.54404044e-16\n",
      "  9.50148028e-11  9.50148028e-11  1.58163416e-16 -2.02231242e-15\n",
      " -9.71531442e-17 -6.33940835e-18 -1.80783612e-17 -1.29257930e-18\n",
      " -3.57896334e-17 -1.22651924e-16 -2.44825676e-17 -1.75412886e-17\n",
      " -1.95743631e-17 -1.67340825e-17 -7.33068986e-18 -1.36058042e-17\n",
      " -1.29072823e-17 -1.90953476e-17 -4.40803052e-17 -1.30843266e-17\n",
      " -9.02341238e-18 -6.65029537e-17 -2.05427579e-17 -2.91349418e-17\n",
      " -5.40650242e-17 -2.70709377e-18 -2.37185180e-17  3.42325694e-16\n",
      "  2.53328604e-15  3.27884318e-17  3.60080408e-17 -1.95636509e-14\n",
      " -5.09162266e-15 -4.31983429e-17 -3.39814814e-17 -1.01307170e-17\n",
      " -1.39162760e-17 -4.27626940e-17 -1.24018757e-17 -1.80260542e-17\n",
      " -3.00624109e-17 -6.89139737e-19  1.83890056e-14  2.20007683e-16\n",
      "  2.43486490e-15  1.75249576e-15  4.04269194e-15  1.70517854e-15\n",
      "  1.47686389e-15  2.08008940e-17  1.49147229e-14  1.19685942e-17\n",
      " -2.10216299e-17 -9.58016692e-17  2.30592671e-17 -2.22687432e-16\n",
      " -8.62111353e-19  2.85300425e-13 -3.91637315e-15 -1.16939477e-18\n",
      " -3.95192492e-15  1.13508729e-16 -3.79614190e-17 -2.63127631e-14\n",
      "  5.42832680e-17  4.31933537e-16  6.29872832e-17 -4.32571386e-17\n",
      "  7.51314114e-17  1.18305193e-17  1.22657696e-17 -1.48926655e-17\n",
      " -4.56313919e-17 -5.19402887e-17 -4.89423153e-17  5.43209812e-18\n",
      " -2.94792276e-17 -3.50158568e-18 -1.65985568e-17 -1.22110361e-17\n",
      "  4.33611349e-16  5.43259658e-17  2.16602274e-15  1.81780715e-16\n",
      "  5.64591999e-17  9.63893179e-19  7.57007864e-16  2.62877022e-16\n",
      "  3.50422439e-17 -4.87547856e-18 -6.14285249e-17 -5.02126589e-17\n",
      " -7.57467572e-17 -3.39582829e-17  4.46239004e-18  2.67744118e-17\n",
      " -5.31348233e-16 -1.18994034e-17 -2.71749849e-14 -5.04582443e-18\n",
      "  7.07143627e-18 -2.26702411e-17 -2.42839597e-18 -1.92409041e-17\n",
      " -4.93376315e-18 -9.95288349e-18  1.72211813e-18  3.62452344e-18\n",
      " -1.56909346e-18 -2.84284581e-18 -1.61123403e-17 -3.85886957e-17\n",
      "  1.61507049e-17  3.00674800e-17  1.85138185e-20  5.56058185e-20\n",
      "  1.67370276e-18  2.87327111e-18  2.12753073e-17 -1.69826365e-15\n",
      " -8.60498496e-16 -4.16531160e-17  3.47054952e-18  4.47872440e-17\n",
      "  2.22934423e-17  4.21653817e-17  3.31649445e-17  1.32930051e-17\n",
      "  1.64340632e-17  4.90956988e-17  2.44441016e-17 -7.78788638e-17\n",
      " -5.15908907e-17 -9.36578926e-17  5.33228175e-18  5.75088614e-18\n",
      "  2.75165089e-17]\n"
     ]
    }
   ],
   "source": [
    "print(w_sgd_m)"
   ]
  },
  {
   "cell_type": "code",
   "execution_count": null,
   "metadata": {},
   "outputs": [],
   "source": []
  }
 ],
 "metadata": {
  "kernelspec": {
   "display_name": "StdVenv",
   "language": "python",
   "name": "python3"
  },
  "language_info": {
   "codemirror_mode": {
    "name": "ipython",
    "version": 3
   },
   "file_extension": ".py",
   "mimetype": "text/x-python",
   "name": "python",
   "nbconvert_exporter": "python",
   "pygments_lexer": "ipython3",
   "version": "3.10.13"
  }
 },
 "nbformat": 4,
 "nbformat_minor": 2
}
