{
 "cells": [
  {
   "cell_type": "code",
   "execution_count": 1,
   "metadata": {},
   "outputs": [],
   "source": [
    "# Importing numpy and all functions in implementations.py\n",
    "import numpy as np\n",
    "from implementations import *\n",
    "import helpers as h\n",
    "import matplotlib.pyplot as plt"
   ]
  },
  {
   "cell_type": "code",
   "execution_count": 7,
   "metadata": {},
   "outputs": [
    {
     "name": "stdout",
     "output_type": "stream",
     "text": [
      "Data successfully loaded, there are 321 features and 328135 samples, the shapes of the unindexed data is:\n",
      "y: (328135, 1), x: (328135, 321)\n"
     ]
    }
   ],
   "source": [
    "# Loading the data and printing the shapes\n",
    "X, xHeader, Y, yHeader, indexedX, indexedXheader, indexedY, indexedYheader = loadTrainingData()"
   ]
  },
  {
   "cell_type": "code",
   "execution_count": 20,
   "metadata": {},
   "outputs": [
    {
     "name": "stdout",
     "output_type": "stream",
     "text": [
      "Out of 105331335 there are 58155556 valid entries, that is 0.5521201834193026 percent valid entries.\n"
     ]
    },
    {
     "data": {
      "image/png": "[encoded data removed]",
      "text/plain": [
       "<Figure size 640x480 with 1 Axes>"
      ]
     },
     "metadata": {},
     "output_type": "display_data"
    }
   ],
   "source": [
    "inspectData(X)"
   ]
  },
  {
   "cell_type": "code",
   "execution_count": 40,
   "metadata": {},
   "outputs": [
    {
     "name": "stdout",
     "output_type": "stream",
     "text": [
      "For a threshold of 0.7, there are 144 good features, and 177 bad features\n",
      "There remains in the data 301563 samples with at most 10 missing values\n",
      "The number of invalid entries remaing in the dataset is 359316\n",
      "That is 0.00827439042588116 parts of the whole dataset\n",
      "Removed 135 samples with outliers more than 30 standard deviations from the mean. There remains 301428 samples in the dataset.\n",
      "Standardized data by subtracting the mean and dividing by the standard deviation\n"
     ]
    }
   ],
   "source": [
    "yClean, xClean, xHeaderClean, removedFeatures = dataCleaning(Y,X,xHeader,0.7,5,30)"
   ]
  },
  {
   "cell_type": "code",
   "execution_count": 37,
   "metadata": {},
   "outputs": [
    {
     "name": "stdout",
     "output_type": "stream",
     "text": [
      "Created a balanced subset of the data, with 57910 samples, 28955 each of positive and negative samples\n",
      "Added dummy variable and replaced invalid entries with zeros\n"
     ]
    }
   ],
   "source": [
    "balancedY, balancedX, throwaway = balanceData(yClean,xClean)\n",
    "tx = makeTrainingData(balancedX)"
   ]
  },
  {
   "cell_type": "code",
   "execution_count": 41,
   "metadata": {},
   "outputs": [
    {
     "name": "stdout",
     "output_type": "stream",
     "text": [
      "Added dummy variable and replaced invalid entries with zeros\n"
     ]
    },
    {
     "data": {
      "text/plain": [
       "0.34349430996648916"
      ]
     },
     "execution_count": 41,
     "metadata": {},
     "output_type": "execute_result"
    }
   ],
   "source": [
    "lambda_ = 3e-1\n",
    "reg_logistic_regression_fixed_lambda = lambda y, tx, initial_w, max_iters, gamma: reg_logistic_regression(y,tx,lambda_,initial_w,max_iters,gamma)\n",
    "w_reg_logistic, train_loss, test_loss = k_fold_cross_validation(balancedY,tx,5,np.zeros(tx.shape[1]),1000,0.1,reg_logistic_regression_fixed_lambda)\n",
    "y_pred = makePredictions(w_reg_logistic,X,xHeader,xHeaderClean)\n",
    "f1_score(Y,y_pred)"
   ]
  },
  {
   "cell_type": "code",
   "execution_count": null,
   "metadata": {},
   "outputs": [],
   "source": []
  }
 ],
 "metadata": {
  "kernelspec": {
   "display_name": "StdVenv",
   "language": "python",
   "name": "python3"
  },
  "language_info": {
   "codemirror_mode": {
    "name": "ipython",
    "version": 3
   },
   "file_extension": ".py",
   "mimetype": "text/x-python",
   "name": "python",
   "nbconvert_exporter": "python",
   "pygments_lexer": "ipython3",
   "version": "3.10.13"
  }
 },
 "nbformat": 4,
 "nbformat_minor": 2
}
