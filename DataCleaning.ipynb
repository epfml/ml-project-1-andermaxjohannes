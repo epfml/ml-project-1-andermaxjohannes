{
 "cells": [
  {
   "cell_type": "code",
   "execution_count": 1,
   "metadata": {},
   "outputs": [],
   "source": [
    "# Importing numpy and all functions in implementations.py\n",
    "import numpy as np\n",
    "from implementations import *\n",
    "import helpers as h\n",
    "import matplotlib.pyplot as plt"
   ]
  },
  {
   "cell_type": "code",
   "execution_count": 2,
   "metadata": {},
   "outputs": [
    {
     "name": "stdout",
     "output_type": "stream",
     "text": [
      "y: (328135, 2), x: (328135, 322)\n"
     ]
    }
   ],
   "source": [
    "\n",
    "def loadData(dataPath):\n",
    "    ''' Loads data and returns it as masked numpy array. A masked array contains information about which values are invalid, ensuring methods like .mean() ignores the masked values\n",
    "    Args:\n",
    "        dataPath: The file path of the data\n",
    "    Returns:\n",
    "        data: (N,d) masked numpy array, where N is the number of samples, and d is the dimension of the x values, or 1 if the data in question are the labels\n",
    "        header: (d,) array with the column names\n",
    "    '''\n",
    "    data = np.genfromtxt(dataPath, delimiter=',', skip_header=1, dtype=float, usemask=True) # Loading the data as a masked array (with usemask=True), skipping the header, and specifying that the values are floats\n",
    "    header = np.genfromtxt(dataPath, delimiter=',', dtype=str, max_rows=1) # Loading the first row of the csv file, i.e. the header\n",
    "    return data , header\n",
    "\n",
    "# Loading the data and printing the shapes\n",
    "y, yHeader = loadData('./Data/y_train.csv')\n",
    "x, xHeader = loadData('./Data/x_train.csv')\n",
    "print(f'y: {y.shape}, x: {x.shape}')"
   ]
  },
  {
   "cell_type": "code",
   "execution_count": 3,
   "metadata": {},
   "outputs": [
    {
     "name": "stdout",
     "output_type": "stream",
     "text": [
      "[164067.0 -0.8233958584119341]\n"
     ]
    }
   ],
   "source": [
    "print(np.sum(y,axis=0)/len(y))"
   ]
  },
  {
   "cell_type": "code",
   "execution_count": 4,
   "metadata": {},
   "outputs": [
    {
     "name": "stdout",
     "output_type": "stream",
     "text": [
      "For a threeshold of 0.7, there are 145 valid features, and 177 invalid features\n"
     ]
    }
   ],
   "source": [
    "# Counting the number of valid values for each feature, and calculating the percentage of valid entries\n",
    "validFeatureVals = x.count(axis=0)\n",
    "validFeatureValsPercent = validFeatureVals/x.shape[0]\n",
    "\n",
    "# Finding the indices of all the features with number of features above and below a threeshold\n",
    "threeshold = 0.7\n",
    "featureIndicesAboveThreeshold = np.argwhere(validFeatureValsPercent > threeshold).flatten() # Finding the indiced i where there are more than threeshold percent\n",
    "featureIndicesBelowThreeshold = np.argwhere(validFeatureValsPercent < threeshold).flatten() # valid values, and flattening the array from (i,1) to (i,)\n",
    "print(f'For a threeshold of {threeshold}, there are {len(featureIndicesAboveThreeshold)} valid features, and {len(featureIndicesBelowThreeshold)} invalid features')"
   ]
  },
  {
   "cell_type": "code",
   "execution_count": 5,
   "metadata": {},
   "outputs": [
    {
     "name": "stdout",
     "output_type": "stream",
     "text": [
      "(328135, 145)\n"
     ]
    }
   ],
   "source": [
    "# Removing the features that appears less than {threeshold} of the time\n",
    "xFeaturesRemoved = x[:,featureIndicesAboveThreeshold]\n",
    "xHeaderFeaturesRemoved = xHeader[featureIndicesAboveThreeshold]\n",
    "print(xFeaturesRemoved.shape)"
   ]
  },
  {
   "cell_type": "code",
   "execution_count": 6,
   "metadata": {},
   "outputs": [
    {
     "name": "stdout",
     "output_type": "stream",
     "text": [
      "There are 289870 samples with at most 5 missing values, for a threeshold of 0.7 for considering a feature valid\n"
     ]
    }
   ],
   "source": [
    "# Counting the number of valid values for each remaining sample\n",
    "validSampleVals = xFeaturesRemoved.count(axis=1)\n",
    "validSampleValsPercent = validSampleVals/xFeaturesRemoved.shape[1]\n",
    "\n",
    "acceptableMissingValues = 5\n",
    "sampleIndicesAboveThreeshold = np.argwhere(validSampleVals >= xFeaturesRemoved.shape[1]-acceptableMissingValues).flatten()\n",
    "print(f'There are {len(sampleIndicesAboveThreeshold)} samples with at most {acceptableMissingValues} missing values, for a threeshold of {threeshold} for considering a feature valid')\n"
   ]
  },
  {
   "cell_type": "code",
   "execution_count": 7,
   "metadata": {},
   "outputs": [
    {
     "name": "stdout",
     "output_type": "stream",
     "text": [
      "(289870, 145)\n"
     ]
    }
   ],
   "source": [
    "# Removing samples with more than {acceptableMissingValues} missing values\n",
    "xFeaturesAndSamplesRemoved = xFeaturesRemoved[sampleIndicesAboveThreeshold]\n",
    "ySamplesRemoved = y[sampleIndicesAboveThreeshold]\n",
    "print(xFeaturesAndSamplesRemoved.shape)"
   ]
  },
  {
   "cell_type": "code",
   "execution_count": 8,
   "metadata": {},
   "outputs": [
    {
     "name": "stdout",
     "output_type": "stream",
     "text": [
      "The number of invalid entries remaing in the dataset is 272938\n",
      "That is 0.006493707643021902 parts of the whole dataset\n"
     ]
    }
   ],
   "source": [
    "print(f'The number of invalid entries remaing in the dataset is {xFeaturesAndSamplesRemoved.size - xFeaturesAndSamplesRemoved.count()}\\nThat is {(xFeaturesAndSamplesRemoved.size - xFeaturesAndSamplesRemoved.count())/xFeaturesAndSamplesRemoved.size} parts of the whole dataset')"
   ]
  },
  {
   "cell_type": "code",
   "execution_count": 9,
   "metadata": {},
   "outputs": [],
   "source": [
    "xNormalize = (xFeaturesAndSamplesRemoved - np.mean(xFeaturesAndSamplesRemoved,axis=0)) / np.var(xFeaturesAndSamplesRemoved, axis=0)\n",
    "xClean = np.ma.filled(xFeaturesAndSamplesRemoved,fill_value=0)\n",
    "tx = np.c_[np.ones(xClean.shape[0]),xClean]"
   ]
  },
  {
   "cell_type": "code",
   "execution_count": 10,
   "metadata": {},
   "outputs": [
    {
     "data": {
      "image/png": "[encoded data removed]",
      "text/plain": [
       "<Figure size 640x480 with 1 Axes>"
      ]
     },
     "metadata": {},
     "output_type": "display_data"
    },
    {
     "name": "stdout",
     "output_type": "stream",
     "text": [
      "The indices of the samples with an outlier exceeding 30 times the average is: [ 10721    176    176      3      3 124409  19050  57839 193584  19532\n",
      "  82465    140   2495 171281 124409   9095  16118      3  15285     59]\n"
     ]
    }
   ],
   "source": [
    "outlierArray = np.max(np.abs(xClean),axis=0)/np.mean(np.abs(xClean),axis=0)\n",
    "outlierMultiple = 30\n",
    "outlierSamples = np.argmax(xClean,axis=0)[np.where(outlierArray > outlierMultiple)]\n",
    "\n",
    "# Bar chart of the largest element of each feature divided by the average element of the feature\n",
    "'''TODO This should probably be done before the normalization - so that the outliers do not influence the mean and variance\n",
    "I guess we should allow for max values no more than 10-50 times bigger than the average, so TODO these needs to be removed, \n",
    "either by removing the sample, or by replacing the outlier value by the mean. I think it is probably best to just remove the sample\n",
    "We can probably do better than this, as now the code just checks the largest value for each feature, while we would want to TODO take into account \n",
    "the possibility of having multiple outliers for each feature'''\n",
    "plt.bar(np.arange(0,xClean.shape[1]),outlierArray)\n",
    "plt.title('Outlier Detection')\n",
    "plt.show()\n",
    "print(f'The indices of the samples with an outlier exceeding {outlierMultiple} times the average is: {outlierSamples}')"
   ]
  },
  {
   "cell_type": "code",
   "execution_count": 11,
   "metadata": {},
   "outputs": [
    {
     "name": "stderr",
     "output_type": "stream",
     "text": [
      "/Users/johannes/Documents/Uni/Semester7/MachineLearning/CS433_Project_1/ml-project-1-andermaxjohannes/implementations.py:55: RuntimeWarning: overflow encountered in matmul\n",
      "  return - tx.T @ (y-tx @ w) / len(y)\n"
     ]
    },
    {
     "name": "stdout",
     "output_type": "stream",
     "text": [
      "1.6297739024223482e+19 --\n"
     ]
    },
    {
     "name": "stderr",
     "output_type": "stream",
     "text": [
      "/Users/johannes/Documents/Uni/Semester7/MachineLearning/CS433_Project_1/ml-project-1-andermaxjohannes/implementations.py:21: RuntimeWarning: overflow encountered in matmul\n",
      "  return e.T @ e / len(e)\n"
     ]
    }
   ],
   "source": [
    "initial_w = np.ones(tx.shape[1],dtype=np.double)\n",
    "w_sgd_m, loss_sgd_m, = mean_squared_error_sgd(ySamplesRemoved[:,1],tx,initial_w,10**4,2e-18,batch_size=16)\n",
    "print(compute_loss(ySamplesRemoved[:,1],tx,initial_w),loss_sgd_m)"
   ]
  },
  {
   "cell_type": "code",
   "execution_count": 12,
   "metadata": {},
   "outputs": [
    {
     "name": "stderr",
     "output_type": "stream",
     "text": [
      "/Users/johannes/Documents/Uni/Semester7/MachineLearning/CS433_Project_1/ml-project-1-andermaxjohannes/implementations.py:241: RuntimeWarning: divide by zero encountered in log\n",
      "  return - np.sum( y * np.log(logistic(tx @ w)) + (1-y)* np.log(1-logistic(tx @ w)) ) / y.shape[0]\n"
     ]
    }
   ],
   "source": [
    "w_logistic = logistic_regression(ySamplesRemoved[:,1],tx,initial_w,10**3,1e-19)"
   ]
  },
  {
   "cell_type": "code",
   "execution_count": 14,
   "metadata": {},
   "outputs": [
    {
     "ename": "ValueError",
     "evalue": "setting an array element with a sequence. The requested array has an inhomogeneous shape after 1 dimensions. The detected shape was (2,) + inhomogeneous part.",
     "output_type": "error",
     "traceback": [
      "\u001b[0;31m---------------------------------------------------------------------------\u001b[0m",
      "\u001b[0;31mValueError\u001b[0m                                Traceback (most recent call last)",
      "\u001b[1;32m/Users/johannes/Documents/Uni/Semester7/MachineLearning/CS433_Project_1/ml-project-1-andermaxjohannes/DataCleaning.ipynb Cell 13\u001b[0m line \u001b[0;36m1\n\u001b[0;32m----> <a href='vscode-notebook-cell:/Users/johannes/Documents/Uni/Semester7/MachineLearning/CS433_Project_1/ml-project-1-andermaxjohannes/DataCleaning.ipynb#X15sZmlsZQ%3D%3D?line=0'>1</a>\u001b[0m prediction \u001b[39m=\u001b[39m np\u001b[39m.\u001b[39msign(tx \u001b[39m@\u001b[39;49m w_logistic)\n\u001b[1;32m      <a href='vscode-notebook-cell:/Users/johannes/Documents/Uni/Semester7/MachineLearning/CS433_Project_1/ml-project-1-andermaxjohannes/DataCleaning.ipynb#X15sZmlsZQ%3D%3D?line=1'>2</a>\u001b[0m errors \u001b[39m=\u001b[39m np\u001b[39m.\u001b[39msum(np\u001b[39m.\u001b[39mabs(prediction \u001b[39m-\u001b[39m ySamplesRemoved[:,\u001b[39m1\u001b[39m]))\u001b[39m/\u001b[39m\u001b[39m2\u001b[39m\n\u001b[1;32m      <a href='vscode-notebook-cell:/Users/johannes/Documents/Uni/Semester7/MachineLearning/CS433_Project_1/ml-project-1-andermaxjohannes/DataCleaning.ipynb#X15sZmlsZQ%3D%3D?line=2'>3</a>\u001b[0m predPos \u001b[39m=\u001b[39m np\u001b[39m.\u001b[39msum(np\u001b[39m.\u001b[39mabs(prediction[np\u001b[39m.\u001b[39mwhere(prediction \u001b[39m>\u001b[39m \u001b[39m0\u001b[39m)]))\n",
      "\u001b[0;31mValueError\u001b[0m: setting an array element with a sequence. The requested array has an inhomogeneous shape after 1 dimensions. The detected shape was (2,) + inhomogeneous part."
     ]
    }
   ],
   "source": [
    "prediction = np.sign(tx @ w_logistic)\n",
    "errors = np.sum(np.abs(prediction - ySamplesRemoved[:,1]))/2\n",
    "predPos = np.sum(np.abs(prediction[np.where(prediction > 0)]))\n",
    "print(f'''Number of Errors: {errors}\n",
    "Predicted positive cases: {predPos}\n",
    "Number of samples: {len(ySamplesRemoved)}\n",
    "Number of actually positive cases: {np.sum(ySamplesRemoved[np.where(ySamplesRemoved[:,1] > 0 ),1])}''')"
   ]
  },
  {
   "cell_type": "code",
   "execution_count": null,
   "metadata": {},
   "outputs": [],
   "source": []
  }
 ],
 "metadata": {
  "kernelspec": {
   "display_name": "StdVenv",
   "language": "python",
   "name": "python3"
  },
  "language_info": {
   "codemirror_mode": {
    "name": "ipython",
    "version": 3
   },
   "file_extension": ".py",
   "mimetype": "text/x-python",
   "name": "python",
   "nbconvert_exporter": "python",
   "pygments_lexer": "ipython3",
   "version": "3.10.13"
  }
 },
 "nbformat": 4,
 "nbformat_minor": 2
}
