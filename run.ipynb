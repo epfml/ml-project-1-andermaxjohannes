{
 "cells": [
  {
   "cell_type": "code",
   "execution_count": 1,
   "metadata": {},
   "outputs": [],
   "source": [
    "# Importing numpy and functions\n",
    "import numpy as np\n",
    "import helpers as h\n",
    "from implementations import *\n",
    "import matplotlib.pyplot as plt"
   ]
  },
  {
   "cell_type": "code",
   "execution_count": 21,
   "metadata": {},
   "outputs": [],
   "source": [
    "# Setting a random seed\n",
    "seed = 934586\n",
    "np.random.seed(seed)\n",
    "\n",
    "#### Setting some hyperparameters ########\n",
    "K = 5                          # The number of folds for cross validation\n",
    "gamma = 0.1                    # The step size for the numerical regressions\n",
    "max_iter = 1000                  # The maximum number of iterations for the numerical regressions\n",
    "featureThreshold = 0.7          # The percent of each feature that must be valid for the feature not to be discarded\n",
    "acceptableMissingValues = 3    # The number of invalid values a sample may have without being discarded\n",
    "\n",
    "# Making a filename to save the predictions for these parameters to\n",
    "savefile = f'./Predictions/regularizedLogistic_seed_{seed}_gamma_{gamma}_iter_{max_iter}_K_{K}_featShold_{featureThreshold}_missVals_{acceptableMissingValues}.csv'"
   ]
  },
  {
   "cell_type": "code",
   "execution_count": 3,
   "metadata": {},
   "outputs": [
    {
     "name": "stdout",
     "output_type": "stream",
     "text": [
      "Data successfully loaded, there are 321 features and 328135 samples, the shapes of the unindexed data is:\n",
      "y: (328135, 1), x: (328135, 321)\n"
     ]
    }
   ],
   "source": [
    "# Loading the data\n",
    "X, xHeader, Y, yHeader, indexedX, indexedXheader, indexedY, indexedYheader = loadTrainingData()"
   ]
  },
  {
   "cell_type": "code",
   "execution_count": 17,
   "metadata": {},
   "outputs": [
    {
     "name": "stdout",
     "output_type": "stream",
     "text": [
      "For a threshold of 0.7, there are 144 good features, and 177 bad features\n",
      "There remains in the data 268710 samples with at most 3 missing values\n",
      "The number of invalid entries remaing in the dataset is 182317\n",
      "That is 0.004711734873200766 parts of the whole dataset\n",
      "Removed 21109 samples with outliers more than 10 standard deviations from the mean. There remains 247601 samples in the dataset.\n",
      "Standardized data by subtracting the mean and dividing by the standard deviation\n",
      "\n",
      "Created a balanced subset of the data, with 43800 samples, 21900 each of positive and negative samples\n",
      "\n",
      "Added dummy variable and replaced invalid entries with zeros\n",
      "The resultant dataarray tx has shape (43800, 145)\n"
     ]
    }
   ],
   "source": [
    "# Cleaning/feature engineering the data\n",
    "yClean, xClean, xHeaderClean, removedFeatures = dataCleaning(Y,X,xHeader,featureThreshold,acceptableMissingValues)\n",
    "print('')\n",
    "# Making a balanced data set to force the model to not just predict negatively all the time\n",
    "yBalanced, xBalanced, balancePrior = balanceData(yClean,xClean)\n",
    "print('')\n",
    "# Adding dummy variables and replacing the remaining invalid values by the mean\n",
    "tx = makeTrainingData(xBalanced)\n",
    "print(f'The resultant dataarray tx has shape {tx.shape}')"
   ]
  },
  {
   "cell_type": "code",
   "execution_count": 22,
   "metadata": {},
   "outputs": [
    {
     "data": {
      "image/png": "[encoded data removed]",
      "text/plain": [
       "<Figure size 640x480 with 1 Axes>"
      ]
     },
     "metadata": {},
     "output_type": "display_data"
    }
   ],
   "source": [
    "# Initializing the weights at zero\n",
    "initial_w = np.zeros(tx.shape[1])\n",
    "\n",
    "# Setting some lambdas to check for the best among them\n",
    "lambdas = np.logspace(-3,-1,10)\n",
    "# Looking for the best of the chosen lambdas\n",
    "train_loss, test_loss, bestLambda, best_w = determineLambda(yBalanced,tx,initial_w,lambdas,max_iter,K,gamma)\n",
    "\n",
    "# Plotting the training and testing errors as functions of lambda\n",
    "plt.plot(lambdas,train_loss,label='Training Loss', color='g')\n",
    "plt.plot(lambdas,test_loss,label='Testing Loss', color='r')\n",
    "plt.xscale('log')\n",
    "plt.legend()\n",
    "plt.show()"
   ]
  },
  {
   "cell_type": "code",
   "execution_count": 23,
   "metadata": {},
   "outputs": [
    {
     "name": "stdout",
     "output_type": "stream",
     "text": [
      "Added dummy variable and replaced invalid entries with zeros\n",
      "0.3826017874875869\n"
     ]
    }
   ],
   "source": [
    "predictions_best_w = makePredictions(best_w,X,xHeader,xHeaderClean)\n",
    "f1_best_w = f1_score(Y,predictions_best_w)\n",
    "print(f1_best_w)"
   ]
  },
  {
   "cell_type": "code",
   "execution_count": 24,
   "metadata": {},
   "outputs": [
    {
     "name": "stdout",
     "output_type": "stream",
     "text": [
      "(109379, 322)\n",
      "Added dummy variable and replaced invalid entries with zeros\n",
      "The model had a f1 score of 0.3826017874875869, and predicts 23793.0 positive cases\n",
      "The predictions were succesfully saved to ./Predictions/regularizedLogistic_seed_934586_gamma_0.1_iter_1000_K_5_featShold_0.7_missVals_3.csv\n"
     ]
    }
   ],
   "source": [
    "############## Making predictions ###############\n",
    "# Loading the test data\n",
    "xTest, xIndexedHeader = loadData('./Data/x_test.csv')\n",
    "\n",
    "# Making predictions\n",
    "pred_best_w = makePredictions(best_w,xTest[:,1:],xHeader,xHeaderClean)\n",
    "# Counting predicted positive cases\n",
    "print(f'The model had a f1 score of {f1_best_w}, and predicts {np.sum(pred_best_w)} positive cases')\n",
    "\n",
    "# Converting the predictions from 0/1 to -1/1, and making a prediction file ready for submission\n",
    "pred_best_w[pred_best_w == 0] = -1\n",
    "\n",
    "h.create_csv_submission(xTest[:,0], pred_best_w, savefile)\n",
    "print(f'The predictions were succesfully saved to {savefile}')"
   ]
  },
  {
   "cell_type": "code",
   "execution_count": null,
   "metadata": {},
   "outputs": [],
   "source": []
  }
 ],
 "metadata": {
  "kernelspec": {
   "display_name": "StdVenv",
   "language": "python",
   "name": "python3"
  },
  "language_info": {
   "codemirror_mode": {
    "name": "ipython",
    "version": 3
   },
   "file_extension": ".py",
   "mimetype": "text/x-python",
   "name": "python",
   "nbconvert_exporter": "python",
   "pygments_lexer": "ipython3",
   "version": "3.10.13"
  }
 },
 "nbformat": 4,
 "nbformat_minor": 2
}
