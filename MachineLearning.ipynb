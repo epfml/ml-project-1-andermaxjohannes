{
 "cells": [
  {
   "cell_type": "code",
   "execution_count": 1,
   "metadata": {},
   "outputs": [],
   "source": [
    "import numpy as np\n",
    "import helpers as h\n",
    "from implementations import *"
   ]
  },
  {
   "cell_type": "code",
   "execution_count": 2,
   "metadata": {},
   "outputs": [
    {
     "name": "stdout",
     "output_type": "stream",
     "text": [
      "Data successfully loaded, there are 321 features and 328135 samples, the shapes of the unindexed data is:\n",
      "y: (328135, 1), x: (328135, 321)\n"
     ]
    }
   ],
   "source": [
    "X, xHeader, Y, yHeader, indexedX, indexedXheader, indexedY, indexedYheader = loadTrainingData()"
   ]
  },
  {
   "cell_type": "code",
   "execution_count": 3,
   "metadata": {},
   "outputs": [
    {
     "name": "stdout",
     "output_type": "stream",
     "text": [
      "For a threshold of 0.7, there are 144 good features, and 177 bad features\n",
      "There remains in the data 289870 samples with at most 5 missing values\n",
      "The number of invalid entries remaing in the dataset is 272938\n",
      "That is 0.006538802834987332 parts of the whole dataset\n",
      "Removed 21050 samples with outliers more than 10 standard deviations from the mean. There remains 268820 samples in the dataset.\n",
      "Standardized data by subtracting the mean and dividing by the standard deviation\n"
     ]
    }
   ],
   "source": [
    "yClean, xClean, xHeaderClean = dataCleaning(Y,X,xHeader)"
   ]
  },
  {
   "cell_type": "code",
   "execution_count": 4,
   "metadata": {},
   "outputs": [
    {
     "name": "stdout",
     "output_type": "stream",
     "text": [
      "Created a balanced subset of the data, with 46448 samples, 23224 each of positive and negative samples\n",
      "Added dummy variable and replaced invalid entries with zeros\n"
     ]
    }
   ],
   "source": [
    "yBalanced, xBalanced = balanceData(yClean,xClean)\n",
    "tx = makeTrainingData(xBalanced)"
   ]
  },
  {
   "cell_type": "code",
   "execution_count": 8,
   "metadata": {},
   "outputs": [],
   "source": [
    "initial_w = np.zeros(tx.shape[1])\n",
    "w_gd_m, loss_gd_m = mse_gd_momentum(yBalanced,tx,initial_w,1000,0.1)"
   ]
  },
  {
   "cell_type": "code",
   "execution_count": 9,
   "metadata": {},
   "outputs": [
    {
     "name": "stdout",
     "output_type": "stream",
     "text": [
      "1.0\n",
      "0.6214366735917236\n",
      "25530.600562960608\n"
     ]
    }
   ],
   "source": [
    "print(compute_loss(yBalanced,tx,initial_w))\n",
    "print(loss_gd_m)\n",
    "print(logistic_loss(yBalanced,tx,w_gd_m))\n"
   ]
  },
  {
   "cell_type": "code",
   "execution_count": 10,
   "metadata": {},
   "outputs": [
    {
     "name": "stdout",
     "output_type": "stream",
     "text": [
      "32195.30024264834\n",
      "23013.129489674684\n"
     ]
    }
   ],
   "source": [
    "w_logistic, loss_logistic = logistic_regression(yBalanced,tx,initial_w,100,0.01)\n",
    "\n",
    "#print(compute_loss(yBalanced,tx,initial_w))\n",
    "#print(compute_loss(yBalanced,tx,w_logistic))\n",
    "\n",
    "print(logistic_loss(yBalanced,tx,initial_w))\n",
    "print(logistic_loss(yBalanced,tx,w_logistic))"
   ]
  },
  {
   "cell_type": "code",
   "execution_count": 11,
   "metadata": {},
   "outputs": [
    {
     "name": "stdout",
     "output_type": "stream",
     "text": [
      "[-2.82729983 -1.34065062  1.34702327 ...  1.68714486 -1.54787826\n",
      " -1.93685045]\n"
     ]
    }
   ],
   "source": [
    "print(tx@w_logistic)"
   ]
  },
  {
   "cell_type": "code",
   "execution_count": null,
   "metadata": {},
   "outputs": [],
   "source": []
  }
 ],
 "metadata": {
  "kernelspec": {
   "display_name": "StdVenv",
   "language": "python",
   "name": "python3"
  },
  "language_info": {
   "codemirror_mode": {
    "name": "ipython",
    "version": 3
   },
   "file_extension": ".py",
   "mimetype": "text/x-python",
   "name": "python",
   "nbconvert_exporter": "python",
   "pygments_lexer": "ipython3",
   "version": "3.10.13"
  }
 },
 "nbformat": 4,
 "nbformat_minor": 2
}
