{
 "cells": [
  {
   "cell_type": "code",
   "execution_count": null,
   "metadata": {
    "tags": []
   },
   "outputs": [],
   "source": [
    "# Importing numpy and functions\n",
    "import numpy as np\n",
    "import helpers as h\n",
    "from implementations import *\n",
    "\n",
    "# Loading the data\n",
    "X, xHeader, Y, yHeader, indexedX, indexedXheader, indexedY, indexedYheader = loadTrainingData()\n",
    "print('')\n",
    "# Cleaning/feature engineering the data\n",
    "yClean, xClean, xHeaderClean, removedFeatures = dataCleaning(Y,X,xHeader)\n",
    "print('')\n",
    "# Making a balanced data set to force the model to not just predict negatively all the time\n",
    "yBalanced, xBalanced, balancePrior = balanceData(yClean,xClean)\n",
    "print('')\n",
    "# Adding dummy variables and replacing the remaining invalid values by the mean\n",
    "tx = makeTrainingData(xBalanced)\n",
    "print(f'The resultant dataarray tx has shape {tx.shape}')"
   ]
  },
  {
   "cell_type": "code",
   "execution_count": null,
   "metadata": {
    "tags": []
   },
   "outputs": [],
   "source": [
    "# Initializing the parameters at zero and setting some constants\n",
    "initial_w = np.zeros(tx.shape[1])\n",
    "K = 5\n",
    "gamma = 0.01\n",
    "max_iter = 1000\n",
    "lambda_ = 0.1\n",
    "# Training a model with gradient descent with momentum\n",
    "#w_gd_m, loss_gd_m = k_fold_cross_validation(yBalanced,tx,K,initial_w,max_iter,gamma, mse_gd_momentum, compute_loss)\n",
    "print('')\n",
    "# Training a model with logistic reg with momentum\n",
    "#w_logistic, loss_logistic = k_fold_cross_validation(yBalanced,tx,K,initial_w,max_iter,gamma)\n",
    "\n",
    "# Training a model with logistic reg with momentum\n",
    "\n",
    "setLambdaReg = lambda (yBalanced,tx,K,initial_w,max_iter,gamma): penalized_logistic_regression(y, tx, w, lambda_=0.1)\n",
    "w_logistic, loss_logistic = max_cross_valid(yBalanced,tx,K,initial_w,max_iter,gamma)\n"
   ]
  },
  {
   "cell_type": "code",
   "execution_count": null,
   "metadata": {},
   "outputs": [],
   "source": [
    "# Loading the test data\n",
    "xTest, xIndexedHeader = loadData('./Data/x_test.csv')\n",
    "print(xTest.shape)"
   ]
  },
  {
   "cell_type": "code",
   "execution_count": null,
   "metadata": {},
   "outputs": [],
   "source": [
    "\"\"\"\n",
    "def makePredictions(w,xTest,xHeader,xHeaderFeaturesRemoved, prior=1.0):\n",
    "    ''' Function making predictions based on provided parameters and data\n",
    "    Args:\n",
    "        w: (d,) array with the parameters\n",
    "        x: (N,D) array with the data\n",
    "        xHeader: (D,) array with all the features\n",
    "        xHeader: (d,) array with the features that are actually used\n",
    "        prior: float denoting the probability of a random sample being in the model training data\n",
    "    Returns:\n",
    "        (N,) boolean array of the predictions\n",
    "    '''\n",
    "    standardX = standardizeData(xTest)\n",
    "    removedFeaturesX = standardX[:,np.nonzero(np.isin(xHeader, xHeaderFeaturesRemoved))[0]]\n",
    "    predictionSet = makeTrainingData(removedFeaturesX)\n",
    "    probabilities = prior * logistic(predictionSet@w) # The prob of the model being applicable times the prob from the model\n",
    "    return (np.sign(probabilities-0.5)+1)/2 # Shifting the probs to be negative for negative preds, and vice versa, taking the sign, shifting the preds up to be zero or two, diving by to so the preds are zero or one\n",
    "\"\"\"\n",
    "# Making predictions\n",
    "pred_gd = makePredictions(w_logistic,xTest[:,1:],xHeader,xHeaderClean,balancePrior)\n",
    "pred_logistic = makePredictions(w_logistic,xTest[:,1:],xHeader,xHeaderClean)\n",
    "# Counting predicted positive cases\n",
    "print(np.sum(pred_gd),np.sum(pred_logistic))\n"
   ]
  },
  {
   "cell_type": "code",
   "execution_count": null,
   "metadata": {},
   "outputs": [],
   "source": [
    "pred_logistic[pred_logistic == 0] = -1\n",
    "h.create_csv_submission(xTest[:,0],pred_logistic,'./Predictions/balancedDataNoPrior.csv')"
   ]
  },
  {
   "cell_type": "code",
   "execution_count": null,
   "metadata": {},
   "outputs": [],
   "source": []
  }
 ],
 "metadata": {
  "kernelspec": {
   "display_name": "Python3",
   "language": "python",
   "name": "python3"
  },
  "language_info": {
   "codemirror_mode": {
    "name": "ipython",
    "version": 3
   },
   "file_extension": ".py",
   "mimetype": "text/x-python",
   "name": "python",
   "nbconvert_exporter": "python",
   "pygments_lexer": "ipython3",
   "version": "3.11.5"
  }
 },
 "nbformat": 4,
 "nbformat_minor": 4
}
