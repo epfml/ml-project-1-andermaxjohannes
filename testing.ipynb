{
 "cells": [
  {
   "cell_type": "markdown",
   "metadata": {},
   "source": [
    "# Testing our implementations"
   ]
  },
  {
   "cell_type": "code",
   "execution_count": 67,
   "metadata": {},
   "outputs": [],
   "source": [
    "# Importing numpy and all functions in implementations.py\n",
    "import numpy as np\n",
    "from implementations import *\n",
    "import helpers as h\n",
    "\n",
    "# As the helper function does not work at the moment, importing pandas to use instead\n",
    "import pandas as pd\n"
   ]
  },
  {
   "cell_type": "markdown",
   "metadata": {},
   "source": [
    "First we will need some testing data, so we're reusing the data from lab 2 and 3, and then making some training data of our own."
   ]
  },
  {
   "cell_type": "code",
   "execution_count": 68,
   "metadata": {},
   "outputs": [],
   "source": [
    "def load_data(sub_sample=True, add_outlier=False):\n",
    "    \"\"\"Load data and convert it to the metric system.\"\"\"\n",
    "    path_dataset = \"./Data/height_weight_genders.csv\"\n",
    "    data = np.genfromtxt(path_dataset, delimiter=\",\", skip_header=1, usecols=[1, 2])\n",
    "    height = data[:, 0]\n",
    "    weight = data[:, 1]\n",
    "    gender = np.genfromtxt(\n",
    "        path_dataset,\n",
    "        delimiter=\",\",\n",
    "        skip_header=1,\n",
    "        usecols=[0],\n",
    "        converters={0: lambda x: 0 if b\"Male\" in x else 1},\n",
    "    )\n",
    "    # Convert to metric system\n",
    "    height *= 0.025\n",
    "    weight *= 0.454\n",
    "\n",
    "    # sub-sample\n",
    "    if sub_sample:\n",
    "        height = height[::50]\n",
    "        weight = weight[::50]\n",
    "\n",
    "    if add_outlier:\n",
    "        # outlier experiment\n",
    "        height = np.concatenate([height, [1.1, 1.2]])\n",
    "        weight = np.concatenate([weight, [51.5 / 0.454, 55.3 / 0.454]])\n",
    "\n",
    "    return height, weight, gender\n",
    "\n",
    "def standardize(x):\n",
    "    \"\"\"Standardize the original data set.\"\"\"\n",
    "    mean_x = np.mean(x)\n",
    "    x = x - mean_x\n",
    "    std_x = np.std(x)\n",
    "    x = x / std_x\n",
    "    return x, mean_x, std_x\n",
    "\n",
    "def build_model_data(height, weight):\n",
    "    \"\"\"Form (y,tX) to get regression data in matrix form.\"\"\"\n",
    "    y = weight\n",
    "    x = height\n",
    "    num_samples = len(y)\n",
    "    tx = np.c_[np.ones(num_samples), x]\n",
    "    return y, tx\n",
    "\n",
    "height, weight, gender = load_data(sub_sample=False, add_outlier=False)\n",
    "x, mean_x, std_x = standardize(height)\n",
    "y, tx = build_model_data(x, weight)"
   ]
  },
  {
   "cell_type": "code",
   "execution_count": 69,
   "metadata": {},
   "outputs": [],
   "source": [
    "##### Make some training data #####\n",
    "dataPoints = 100\n",
    "#xarray = np.random.uniform(low=0, high=2*np.pi, size=(dataPoints,))\n",
    "xarray = np.linspace(0,2*np.pi,dataPoints)\n",
    "dummyFeature = np.ones(dataPoints)\n",
    "yarray = np.sin(xarray) + np.random.normal(0,1,dataPoints) *0.1"
   ]
  },
  {
   "cell_type": "code",
   "execution_count": 70,
   "metadata": {},
   "outputs": [
    {
     "name": "stdout",
     "output_type": "stream",
     "text": [
      "Normal equations: parameters: [ 0.92957691 -0.29033606], loss: 0.2187921407962849\n",
      "Gradient Descent: parameters: [ 0.09191116 -0.08763951], loss: 0.3970410260880351\n",
      "Gradient Descent with Momentum: parameters: [ 0.09101664 -0.08744347], loss: 0.3974199160890373\n",
      "Stochastic Gradient Descent: parameters: [ 0.10600627 -0.06433201], loss: 0.4031216145549129\n",
      "Stochastic Gradient Descent with Momentum: parameters: [ 0.06286851 -0.15233141], loss: 0.47033679238702414\n",
      "Ridge Regression: parameters: [ 0.92957691 -0.29033606], loss: 0.2187921407962849\n"
     ]
    }
   ],
   "source": [
    "testX = np.c_[dummyFeature,xarray]#,xarray**2]\n",
    "testY = yarray\n",
    "gamma = 0.005  # The step size, these implementations are sensitive to it - It might be a good idea to implement a backtracking algorithm to find step sizes for each step that follow the weak or strong wolfe conditions\n",
    "initial_w = np.zeros(2)\n",
    "\n",
    "np.random.seed(30)\n",
    "\n",
    "w_ls, loss_ls = least_squares(testY,testX)\n",
    "w_gd, loss_gd = mean_squared_error_gd(testY,testX,initial_w,100,gamma)\n",
    "w_gd_m, loss_gd_m = mse_gd_momentum(testY,testX,initial_w,100,gamma)\n",
    "w_sgd, loss_sgd = mean_squared_error_sgd(testY,testX,initial_w,100,gamma)\n",
    "w_sgd_m, loss_sgd_m, = mse_sgd_momentum(testY,testX,initial_w,100,gamma)\n",
    "w_ridge, loss_ridge = ridge_regression(testY,testX,0)\n",
    "\n",
    "print(f'''Normal equations: parameters: {w_ls}, loss: {loss_ls}\n",
    "Gradient Descent: parameters: {w_gd}, loss: {loss_gd}\n",
    "Gradient Descent with Momentum: parameters: {w_gd_m}, loss: {loss_gd_m}\n",
    "Stochastic Gradient Descent: parameters: {w_sgd}, loss: {loss_sgd}\n",
    "Stochastic Gradient Descent with Momentum: parameters: {w_sgd_m}, loss: {loss_sgd_m}\n",
    "Ridge Regression: parameters: {w_ridge}, loss: {loss_ridge}''')"
   ]
  },
  {
   "cell_type": "code",
   "execution_count": 71,
   "metadata": {},
   "outputs": [
    {
     "data": {
      "image/png": "[encoded data removed]",
      "text/plain": [
       "<Figure size 640x480 with 1 Axes>"
      ]
     },
     "metadata": {},
     "output_type": "display_data"
    }
   ],
   "source": [
    "import matplotlib.pyplot as plt\n",
    "\n",
    "plt.plot(testX[:,1],testX @ w_gd, color='red')\n",
    "plt.plot(testX[:,1],testX @ w_gd_m, color='green')\n",
    "plt.plot(testX[:,1],testX @ w_sgd, color='orange')\n",
    "plt.plot(testX[:,1],testX @ w_sgd_m, color='purple')\n",
    "plt.scatter(testX[:,1],testY)\n",
    "plt.show()"
   ]
  },
  {
   "cell_type": "markdown",
   "metadata": {},
   "source": [
    "From the loss, and illustrated in the plot, it is obvoious that the stochastic gradient descent may a problem with often missing the minimum by a wide margin. It therefore seems smart not to rely on it too much. Using it to find better initial guesses for another algorithm may seem like a better idea. The SGD with momentum seems to generally outperform it quite a lot though, for only a slight increase in computational complexity, so it may be a good idea to use SGD with momentum instead. Still, it is no perfect, and better results may be obtained by GD or GD with momentum. GD with momentum seems less sensitive (but still affected) by the step size."
   ]
  },
  {
   "cell_type": "code",
   "execution_count": 72,
   "metadata": {},
   "outputs": [],
   "source": [
    "\n",
    "#### Not for use for the testing ####\n",
    "\n",
    "# Loading the data - It will however need some validation/cleaning, as there are a lot of missing values\n",
    "#y = pd.read_csv('./Data/y_train.csv',sep=',')\n",
    "#x = pd.read_csv('./Data/x_train.csv',sep=',')\n",
    "#x_test = pd.read_csv('./Data/x_test.csv',sep=',')\n",
    "\n",
    "#colormapping = np.where(y.eq(1),'background-color: red', 'background-color: green')\n",
    "#y.style.apply(lambda _: colormapping,axis=None)"
   ]
  },
  {
   "cell_type": "code",
   "execution_count": null,
   "metadata": {},
   "outputs": [],
   "source": []
  }
 ],
 "metadata": {
  "kernelspec": {
   "display_name": "StdVenv",
   "language": "python",
   "name": "python3"
  },
  "language_info": {
   "codemirror_mode": {
    "name": "ipython",
    "version": 3
   },
   "file_extension": ".py",
   "mimetype": "text/x-python",
   "name": "python",
   "nbconvert_exporter": "python",
   "pygments_lexer": "ipython3",
   "version": "3.10.13"
  },
  "orig_nbformat": 4
 },
 "nbformat": 4,
 "nbformat_minor": 2
}
